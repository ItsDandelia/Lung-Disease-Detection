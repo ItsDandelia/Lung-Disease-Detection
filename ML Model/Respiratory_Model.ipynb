{
  "nbformat": 4,
  "nbformat_minor": 0,
  "metadata": {
    "colab": {
      "name": "Respiratory Model.ipynb",
      "provenance": []
    },
    "kernelspec": {
      "name": "python3",
      "display_name": "Python 3"
    },
    "language_info": {
      "name": "python"
    }
  },
  "cells": [
    {
      "cell_type": "code",
      "metadata": {
        "colab": {
          "base_uri": "https://localhost:8080/"
        },
        "id": "uDpqcsSAcmn8",
        "outputId": "d8ee5386-daa3-4624-b5e8-93272dabe159"
      },
      "source": [
        "# Audio\n",
        "import librosa\n",
        "import librosa.display\n",
        "\n",
        "from google.colab import drive\n",
        "drive.mount('/content/drive')"
      ],
      "execution_count": null,
      "outputs": [
        {
          "output_type": "stream",
          "text": [
            "Drive already mounted at /content/drive; to attempt to forcibly remount, call drive.mount(\"/content/drive\", force_remount=True).\n"
          ],
          "name": "stdout"
        }
      ]
    },
    {
      "cell_type": "code",
      "metadata": {
        "id": "cW1C06Dudwmr"
      },
      "source": [
        "import numpy as np"
      ],
      "execution_count": null,
      "outputs": []
    },
    {
      "cell_type": "code",
      "metadata": {
        "id": "Yfp-_I6QdJ_S"
      },
      "source": [
        "def extract_features(audio_path,offset):\n",
        "#     y, sr = librosa.load(audio_path, duration=3)\n",
        "    y, sr = librosa.load(audio_path, offset=offset, duration=3)\n",
        "#     y = librosa.util.normalize(y)\n",
        "    \n",
        "    S = librosa.feature.melspectrogram(y, sr=sr, n_fft=2048, \n",
        "                                   hop_length=512, \n",
        "                                   n_mels=128)\n",
        "    mfccs = librosa.feature.mfcc(S=librosa.power_to_db(S), n_mfcc=40)\n",
        "\n",
        "#     mfccs = librosa.feature.mfcc(y=y, sr=sr, n_mfcc=40)\n",
        "    return mfccs"
      ],
      "execution_count": null,
      "outputs": []
    },
    {
      "cell_type": "code",
      "metadata": {
        "id": "28yU9lHhd5UW"
      },
      "source": [
        "int_to_label = {0:'Asthma', 1:'Bronchiectasis', 2:'Bronchiolitis', 3:'COPD', 4:'Healthy', 5: 'LRTI', 6: 'Pneumonia', 7:'URTI'}"
      ],
      "execution_count": null,
      "outputs": []
    },
    {
      "cell_type": "code",
      "metadata": {
        "id": "DMSVqfoPyRvY"
      },
      "source": [
        "#ICBHI_final_database/103_2b2_Ar_mc_LittC2SE.wav - Asthma (expected)\n",
        "#ICBHI_final_database/135_2b2_Ar_mc_LittC2SE.wav - Pneumonia (expected)"
      ],
      "execution_count": null,
      "outputs": []
    },
    {
      "cell_type": "code",
      "metadata": {
        "colab": {
          "base_uri": "https://localhost:8080/"
        },
        "id": "unkMXC5ldV7X",
        "outputId": "e9194758-ed9c-4f76-c104-c63c924ada2a"
      },
      "source": [
        "# # load and evaluate a saved model\n",
        "from keras.models import load_model\n",
        " \n",
        "# # load model\n",
        "model = load_model(\"/content/drive/My Drive/respiratory_classifier (normalised).h5\")\n",
        "\n",
        "# # File to be classified\n",
        "classify_file = \"/content/drive/My Drive/ICBHI_final_database/135_2b2_Ar_mc_LittC2SE.wav - Pneumonia\"\n",
        "x_test = []\n",
        "x_test.append(extract_features(classify_file,0.5))\n",
        "x_test = np.asarray(x_test)\n",
        "x_test = x_test.reshape(x_test.shape[0], x_test.shape[1], x_test.shape[2], 1)\n",
        "pred = model.predict(x_test,verbose=1)\n",
        "\n",
        "print(pred)"
      ],
      "execution_count": null,
      "outputs": [
        {
          "output_type": "stream",
          "text": [
            "WARNING:tensorflow:6 out of the last 10 calls to <function Model.make_predict_function.<locals>.predict_function at 0x7fa2642499e0> triggered tf.function retracing. Tracing is expensive and the excessive number of tracings could be due to (1) creating @tf.function repeatedly in a loop, (2) passing tensors with different shapes, (3) passing Python objects instead of tensors. For (1), please define your @tf.function outside of the loop. For (2), @tf.function has experimental_relax_shapes=True option that relaxes argument shapes that can avoid unnecessary retracing. For (3), please refer to https://www.tensorflow.org/guide/function#controlling_retracing and https://www.tensorflow.org/api_docs/python/tf/function for  more details.\n",
            "1/1 [==============================] - 0s 90ms/step\n",
            "[[0.0000000e+00 2.7759583e-23 3.1687008e-20 1.0000000e+00 0.0000000e+00\n",
            "  0.0000000e+00 1.0034779e-37 2.6316948e-16]]\n"
          ],
          "name": "stdout"
        }
      ]
    },
    {
      "cell_type": "code",
      "metadata": {
        "colab": {
          "base_uri": "https://localhost:8080/"
        },
        "id": "Ww3c08qxdb2B",
        "outputId": "b0839c6c-0324-4d74-99c6-1e806d89233b"
      },
      "source": [
        "pred_class = model.predict(x_test)\n",
        "index = np.argmax(pred_class, axis=1)\n",
        "print(int_to_label[index[0]])\n"
      ],
      "execution_count": null,
      "outputs": [
        {
          "output_type": "stream",
          "text": [
            "Healthy\n"
          ],
          "name": "stdout"
        }
      ]
    },
    {
      "cell_type": "code",
      "metadata": {
        "id": "zTT4X7lsd21O"
      },
      "source": [
        ""
      ],
      "execution_count": null,
      "outputs": []
    }
  ]
}